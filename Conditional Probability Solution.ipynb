{
 "cells": [
  {
   "cell_type": "markdown",
   "metadata": {},
   "source": [
    "Remember that $$ P(A \\cup B) = P(A) + P(B) - P(A \\cap B) $$"
   ]
  },
  {
   "cell_type": "markdown",
   "metadata": {},
   "source": [
    "Let A = {it rains on saturday}\n",
    "    B = {it rains on sunday}\n",
    "then \n",
    "    $$ P(A\\cup B) = 0.5$$\n",
    "and \n",
    "   $$ P(A) = 0.4 $$"
   ]
  },
  {
   "cell_type": "markdown",
   "metadata": {},
   "source": [
    "$$ 0.5 = 0.4 + P(B) - P(A \\cap B) $$\n",
    "Hence we have\n",
    "$$ P(B) - P(A \\cap B) = 0.1 $$"
   ]
  },
  {
   "cell_type": "markdown",
   "metadata": {},
   "source": [
    "Since $ P(A \\cap B) \\geq 0 $, \n",
    "$$ P(B) \\geq 0.1 $$"
   ]
  },
  {
   "cell_type": "markdown",
   "metadata": {},
   "source": [
    "Since $ P(B \\vert A) \\leq 1 $, \n",
    "$$  P(A \\cap B) = P(B \\vert A) \\times P(A) \\leq P(A) = 0.4 $$"
   ]
  },
  {
   "cell_type": "markdown",
   "metadata": {},
   "source": [
    "Hence $$ P(B) = P(A \\cap B) +0.1 \\leq 0.5 $$"
   ]
  },
  {
   "cell_type": "markdown",
   "metadata": {},
   "source": [
    "So $$ 0.1 \\leq P(B) \\leq 0.5 $$"
   ]
  }
 ],
 "metadata": {
  "kernelspec": {
   "display_name": "Python 2",
   "language": "python",
   "name": "python2"
  },
  "language_info": {
   "codemirror_mode": {
    "name": "ipython",
    "version": 2
   },
   "file_extension": ".py",
   "mimetype": "text/x-python",
   "name": "python",
   "nbconvert_exporter": "python",
   "pygments_lexer": "ipython2",
   "version": "2.7.13"
  }
 },
 "nbformat": 4,
 "nbformat_minor": 2
}
